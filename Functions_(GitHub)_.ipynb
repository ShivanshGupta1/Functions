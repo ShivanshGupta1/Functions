{
  "nbformat": 4,
  "nbformat_minor": 0,
  "metadata": {
    "colab": {
      "name": "Functions (GitHub) .ipynb",
      "provenance": [],
      "authorship_tag": "ABX9TyO/naS9xbOeRmG9tOKxY7ny",
      "include_colab_link": true
    },
    "kernelspec": {
      "name": "python3",
      "display_name": "Python 3"
    }
  },
  "cells": [
    {
      "cell_type": "markdown",
      "metadata": {
        "id": "view-in-github",
        "colab_type": "text"
      },
      "source": [
        "<a href=\"https://colab.research.google.com/github/ShivanshGupta1/Functions/blob/main/Functions_(GitHub)_.ipynb\" target=\"_parent\"><img src=\"https://colab.research.google.com/assets/colab-badge.svg\" alt=\"Open In Colab\"/></a>"
      ]
    },
    {
      "cell_type": "code",
      "metadata": {
        "id": "KpLD0-jHU1yj"
      },
      "source": [
        "# function is a block of code that performs a particular task\n",
        "#advatages - To reuse that code again and again, no need to write it\n",
        "#one example - print()\n",
        "#1)function defination and body - the code\n",
        "#2) function call -  for example when we write print(), we call that function, it goes to that function and perform it\n",
        "#how to define function \n",
        "#syntax - def function_name(*arguement*):\n",
        "# print('Any')"
      ],
      "execution_count": null,
      "outputs": []
    },
    {
      "cell_type": "code",
      "metadata": {
        "id": "6ROPgq2IWVbl",
        "colab": {
          "base_uri": "https://localhost:8080/",
          "height": 34
        },
        "outputId": "7b42df33-797d-49c7-fbc9-b1e7d2b14253"
      },
      "source": [
        "def function():\n",
        "  print('Shivansh') - #function defination and body\n",
        "function() - #function call"
      ],
      "execution_count": null,
      "outputs": [
        {
          "output_type": "stream",
          "text": [
            "Shivansh\n"
          ],
          "name": "stdout"
        }
      ]
    },
    {
      "cell_type": "code",
      "metadata": {
        "id": "9P4akOqNWyrS",
        "colab": {
          "base_uri": "https://localhost:8080/",
          "height": 68
        },
        "outputId": "755bcb3b-bd28-4dda-ef9c-7c945a1337a9"
      },
      "source": [
        "def any(a,b):\n",
        "  print('Shivansh'*a)\n",
        "  print(a*b)\n",
        "an = int(input('Number of times')) #this variable is different from the above function one\n",
        "any(an,2)\n",
        "#variable name and function name cannot be same"
      ],
      "execution_count": null,
      "outputs": [
        {
          "output_type": "stream",
          "text": [
            "Number of times7\n",
            "ShivanshShivanshShivanshShivanshShivanshShivanshShivansh\n",
            "14\n"
          ],
          "name": "stdout"
        }
      ]
    },
    {
      "cell_type": "code",
      "metadata": {
        "id": "Xw2z0ZMnXwTa",
        "colab": {
          "base_uri": "https://localhost:8080/",
          "height": 51
        },
        "outputId": "27728924-7141-4145-920b-9aa7555ebe2b"
      },
      "source": [
        "#default agrument values\n",
        "def fun(a=4):\n",
        "  print('hello '*a)\n",
        "fun()\n",
        "fun(1)"
      ],
      "execution_count": null,
      "outputs": [
        {
          "output_type": "stream",
          "text": [
            "hello hello hello hello \n",
            "hello \n"
          ],
          "name": "stdout"
        }
      ]
    },
    {
      "cell_type": "code",
      "metadata": {
        "id": "mM9PCmaIX7Df",
        "colab": {
          "base_uri": "https://localhost:8080/",
          "height": 68
        },
        "outputId": "c185f903-5502-41cf-b928-24d6c89dd5f5"
      },
      "source": [
        "def sum(a,b):\n",
        "  print(a+b)\n",
        "a = int(input('Number 1 '))\n",
        "b = int(input('Number 2 '))\n",
        "sum(a,b)"
      ],
      "execution_count": null,
      "outputs": [
        {
          "output_type": "stream",
          "text": [
            "Number 1 1\n",
            "Number 2 2\n",
            "3\n"
          ],
          "name": "stdout"
        }
      ]
    },
    {
      "cell_type": "code",
      "metadata": {
        "id": "HxdQA79UZVFU",
        "colab": {
          "base_uri": "https://localhost:8080/",
          "height": 34
        },
        "outputId": "fe4a9889-2ce7-41b0-d6cc-896579a26a74"
      },
      "source": [
        "#functions that return values\n",
        "def sum(a,b):\n",
        "  return a+b\n",
        "sum = sum(2,5) #you can also use variables, stpre the function and then print it\n",
        "print(sum)"
      ],
      "execution_count": null,
      "outputs": [
        {
          "output_type": "stream",
          "text": [
            "7\n"
          ],
          "name": "stdout"
        }
      ]
    }
  ]
}